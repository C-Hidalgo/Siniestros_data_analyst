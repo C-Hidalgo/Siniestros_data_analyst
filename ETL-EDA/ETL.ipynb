{
 "cells": [
  {
   "cell_type": "markdown",
   "metadata": {},
   "source": [
    "<h1> ETL </h1>\n",
    "<h4> EXTRAER TRANSFORMAR CARGAR </h4>"
   ]
  },
  {
   "cell_type": "code",
   "execution_count": 15,
   "metadata": {},
   "outputs": [],
   "source": [
    "import pandas as pd\n",
    "import seaborn as sns\n",
    "import matplotlib.pyplot as plt"
   ]
  },
  {
   "cell_type": "markdown",
   "metadata": {},
   "source": [
    "Carga de datasets"
   ]
  },
  {
   "cell_type": "code",
   "execution_count": 2,
   "metadata": {},
   "outputs": [],
   "source": [
    "hechos= pd.read_excel('../Datasets/homicidios.xlsx', sheet_name=None)\n",
    "lesiones= pd.read_excel('../Datasets/lesiones.xlsx')"
   ]
  },
  {
   "cell_type": "markdown",
   "metadata": {},
   "source": [
    "<h4>Exproracion DataSet homicidios</h4>\n",
    "Pestaña hechos"
   ]
  },
  {
   "cell_type": "code",
   "execution_count": 3,
   "metadata": {},
   "outputs": [
    {
     "data": {
      "text/html": [
       "<div>\n",
       "<style scoped>\n",
       "    .dataframe tbody tr th:only-of-type {\n",
       "        vertical-align: middle;\n",
       "    }\n",
       "\n",
       "    .dataframe tbody tr th {\n",
       "        vertical-align: top;\n",
       "    }\n",
       "\n",
       "    .dataframe thead th {\n",
       "        text-align: right;\n",
       "    }\n",
       "</style>\n",
       "<table border=\"1\" class=\"dataframe\">\n",
       "  <thead>\n",
       "    <tr style=\"text-align: right;\">\n",
       "      <th></th>\n",
       "      <th>ID</th>\n",
       "      <th>N_VICTIMAS</th>\n",
       "      <th>FECHA</th>\n",
       "      <th>AAAA</th>\n",
       "      <th>MM</th>\n",
       "      <th>DD</th>\n",
       "      <th>HORA</th>\n",
       "      <th>HH</th>\n",
       "      <th>LUGAR_DEL_HECHO</th>\n",
       "      <th>TIPO_DE_CALLE</th>\n",
       "      <th>...</th>\n",
       "      <th>Altura</th>\n",
       "      <th>Cruce</th>\n",
       "      <th>Dirección Normalizada</th>\n",
       "      <th>COMUNA</th>\n",
       "      <th>XY (CABA)</th>\n",
       "      <th>pos x</th>\n",
       "      <th>pos y</th>\n",
       "      <th>PARTICIPANTES</th>\n",
       "      <th>VICTIMA</th>\n",
       "      <th>ACUSADO</th>\n",
       "    </tr>\n",
       "  </thead>\n",
       "  <tbody>\n",
       "    <tr>\n",
       "      <th>87</th>\n",
       "      <td>2016-0114</td>\n",
       "      <td>1</td>\n",
       "      <td>2016-08-31</td>\n",
       "      <td>2016</td>\n",
       "      <td>8</td>\n",
       "      <td>31</td>\n",
       "      <td>11:20:00</td>\n",
       "      <td>11</td>\n",
       "      <td>SALGUERO 1410</td>\n",
       "      <td>CALLE</td>\n",
       "      <td>...</td>\n",
       "      <td>1410.0</td>\n",
       "      <td>NaN</td>\n",
       "      <td>SALGUERO, JERONIMO 1410</td>\n",
       "      <td>14</td>\n",
       "      <td>Point (104111.05146856 103917.57944765)</td>\n",
       "      <td>-58.41848605</td>\n",
       "      <td>-34.59394733</td>\n",
       "      <td>BICICLETA-CARGAS</td>\n",
       "      <td>BICICLETA</td>\n",
       "      <td>CARGAS</td>\n",
       "    </tr>\n",
       "    <tr>\n",
       "      <th>584</th>\n",
       "      <td>2020-0065</td>\n",
       "      <td>1</td>\n",
       "      <td>2020-12-05</td>\n",
       "      <td>2020</td>\n",
       "      <td>12</td>\n",
       "      <td>5</td>\n",
       "      <td>16:00:00</td>\n",
       "      <td>16</td>\n",
       "      <td>PAZ, GRAL. AV. Y GOYENECHE, ROBERTO PARQUE AV.</td>\n",
       "      <td>GRAL PAZ</td>\n",
       "      <td>...</td>\n",
       "      <td>NaN</td>\n",
       "      <td>GOYENECHE, ROBERTO PARQUE AV.</td>\n",
       "      <td>PAZ, GRAL. AV. y GOYENECHE, ROBERTO PARQUE AV.</td>\n",
       "      <td>12</td>\n",
       "      <td>Point (97243.88021302 108974.21974638)</td>\n",
       "      <td>-58.49332664</td>\n",
       "      <td>-34.54836855</td>\n",
       "      <td>MOTO-AUTO</td>\n",
       "      <td>MOTO</td>\n",
       "      <td>AUTO</td>\n",
       "    </tr>\n",
       "    <tr>\n",
       "      <th>336</th>\n",
       "      <td>2018-0062</td>\n",
       "      <td>1</td>\n",
       "      <td>2018-06-14</td>\n",
       "      <td>2018</td>\n",
       "      <td>6</td>\n",
       "      <td>14</td>\n",
       "      <td>01:00:00</td>\n",
       "      <td>1</td>\n",
       "      <td>Rosario y Barco Centenera Del</td>\n",
       "      <td>CALLE</td>\n",
       "      <td>...</td>\n",
       "      <td>NaN</td>\n",
       "      <td>BARCO CENTENERA DEL</td>\n",
       "      <td>ROSARIO y BARCO CENTENERA DEL</td>\n",
       "      <td>6</td>\n",
       "      <td>Point (102035.73876399 100936.73706899)</td>\n",
       "      <td>-58.44110156</td>\n",
       "      <td>-34.62082399</td>\n",
       "      <td>PEATON-CARGAS</td>\n",
       "      <td>PEATON</td>\n",
       "      <td>CARGAS</td>\n",
       "    </tr>\n",
       "  </tbody>\n",
       "</table>\n",
       "<p>3 rows × 21 columns</p>\n",
       "</div>"
      ],
      "text/plain": [
       "            ID  N_VICTIMAS      FECHA  AAAA  MM  DD      HORA  HH  \\\n",
       "87   2016-0114           1 2016-08-31  2016   8  31  11:20:00  11   \n",
       "584  2020-0065           1 2020-12-05  2020  12   5  16:00:00  16   \n",
       "336  2018-0062           1 2018-06-14  2018   6  14  01:00:00   1   \n",
       "\n",
       "                                    LUGAR_DEL_HECHO TIPO_DE_CALLE  ...  \\\n",
       "87                                    SALGUERO 1410         CALLE  ...   \n",
       "584  PAZ, GRAL. AV. Y GOYENECHE, ROBERTO PARQUE AV.      GRAL PAZ  ...   \n",
       "336                   Rosario y Barco Centenera Del         CALLE  ...   \n",
       "\n",
       "     Altura                          Cruce  \\\n",
       "87   1410.0                            NaN   \n",
       "584     NaN  GOYENECHE, ROBERTO PARQUE AV.   \n",
       "336     NaN            BARCO CENTENERA DEL   \n",
       "\n",
       "                              Dirección Normalizada COMUNA  \\\n",
       "87                          SALGUERO, JERONIMO 1410     14   \n",
       "584  PAZ, GRAL. AV. y GOYENECHE, ROBERTO PARQUE AV.     12   \n",
       "336                   ROSARIO y BARCO CENTENERA DEL      6   \n",
       "\n",
       "                                   XY (CABA)         pos x         pos y  \\\n",
       "87   Point (104111.05146856 103917.57944765)  -58.41848605  -34.59394733   \n",
       "584   Point (97243.88021302 108974.21974638)  -58.49332664  -34.54836855   \n",
       "336  Point (102035.73876399 100936.73706899)  -58.44110156  -34.62082399   \n",
       "\n",
       "        PARTICIPANTES    VICTIMA ACUSADO  \n",
       "87   BICICLETA-CARGAS  BICICLETA  CARGAS  \n",
       "584         MOTO-AUTO       MOTO    AUTO  \n",
       "336     PEATON-CARGAS     PEATON  CARGAS  \n",
       "\n",
       "[3 rows x 21 columns]"
      ]
     },
     "execution_count": 3,
     "metadata": {},
     "output_type": "execute_result"
    }
   ],
   "source": [
    "hechos['HECHOS'].sample(3)"
   ]
  },
  {
   "cell_type": "markdown",
   "metadata": {},
   "source": [
    "Verificacion de duplicados en la Columna ID"
   ]
  },
  {
   "cell_type": "code",
   "execution_count": 4,
   "metadata": {},
   "outputs": [
    {
     "name": "stdout",
     "output_type": "stream",
     "text": [
      "Empty DataFrame\n",
      "Columns: [ID, N_VICTIMAS, FECHA, AAAA, MM, DD, HORA, HH, LUGAR_DEL_HECHO, TIPO_DE_CALLE, Calle, Altura, Cruce, Dirección Normalizada, COMUNA, XY (CABA), pos x, pos y, PARTICIPANTES, VICTIMA, ACUSADO]\n",
      "Index: []\n",
      "\n",
      "[0 rows x 21 columns]\n"
     ]
    }
   ],
   "source": [
    "duplicados_id = hechos['HECHOS']['ID'].duplicated(keep=False)\n",
    "\n",
    "# Mostrar las filas duplicadas\n",
    "filas_duplicadas_id = hechos['HECHOS'][duplicados_id]\n",
    "print(filas_duplicadas_id)"
   ]
  },
  {
   "cell_type": "code",
   "execution_count": 6,
   "metadata": {},
   "outputs": [
    {
     "name": "stdout",
     "output_type": "stream",
     "text": [
      "<class 'pandas.core.frame.DataFrame'>\n",
      "RangeIndex: 696 entries, 0 to 695\n",
      "Data columns (total 21 columns):\n",
      " #   Column                 Non-Null Count  Dtype         \n",
      "---  ------                 --------------  -----         \n",
      " 0   ID                     696 non-null    object        \n",
      " 1   N_VICTIMAS             696 non-null    int64         \n",
      " 2   FECHA                  696 non-null    datetime64[ns]\n",
      " 3   AAAA                   696 non-null    int64         \n",
      " 4   MM                     696 non-null    int64         \n",
      " 5   DD                     696 non-null    int64         \n",
      " 6   HORA                   696 non-null    object        \n",
      " 7   HH                     696 non-null    object        \n",
      " 8   LUGAR_DEL_HECHO        696 non-null    object        \n",
      " 9   TIPO_DE_CALLE          696 non-null    object        \n",
      " 10  Calle                  695 non-null    object        \n",
      " 11  Altura                 129 non-null    float64       \n",
      " 12  Cruce                  525 non-null    object        \n",
      " 13  Dirección Normalizada  688 non-null    object        \n",
      " 14  COMUNA                 696 non-null    int64         \n",
      " 15  XY (CABA)              696 non-null    object        \n",
      " 16  pos x                  696 non-null    object        \n",
      " 17  pos y                  696 non-null    object        \n",
      " 18  PARTICIPANTES          696 non-null    object        \n",
      " 19  VICTIMA                696 non-null    object        \n",
      " 20  ACUSADO                696 non-null    object        \n",
      "dtypes: datetime64[ns](1), float64(1), int64(5), object(14)\n",
      "memory usage: 114.3+ KB\n"
     ]
    }
   ],
   "source": [
    "hechos['HECHOS'].info()"
   ]
  },
  {
   "cell_type": "markdown",
   "metadata": {},
   "source": [
    "Se pueden observar valores faltantes en la columnas Calle, Altura, Cruce y Dirección Normalizada."
   ]
  },
  {
   "cell_type": "markdown",
   "metadata": {},
   "source": [
    "<h4>Evaluacion columna Calle</h4>"
   ]
  },
  {
   "cell_type": "code",
   "execution_count": 7,
   "metadata": {},
   "outputs": [
    {
     "data": {
      "text/html": [
       "<div>\n",
       "<style scoped>\n",
       "    .dataframe tbody tr th:only-of-type {\n",
       "        vertical-align: middle;\n",
       "    }\n",
       "\n",
       "    .dataframe tbody tr th {\n",
       "        vertical-align: top;\n",
       "    }\n",
       "\n",
       "    .dataframe thead th {\n",
       "        text-align: right;\n",
       "    }\n",
       "</style>\n",
       "<table border=\"1\" class=\"dataframe\">\n",
       "  <thead>\n",
       "    <tr style=\"text-align: right;\">\n",
       "      <th></th>\n",
       "      <th>ID</th>\n",
       "      <th>N_VICTIMAS</th>\n",
       "      <th>FECHA</th>\n",
       "      <th>AAAA</th>\n",
       "      <th>MM</th>\n",
       "      <th>DD</th>\n",
       "      <th>HORA</th>\n",
       "      <th>HH</th>\n",
       "      <th>LUGAR_DEL_HECHO</th>\n",
       "      <th>TIPO_DE_CALLE</th>\n",
       "      <th>...</th>\n",
       "      <th>Altura</th>\n",
       "      <th>Cruce</th>\n",
       "      <th>Dirección Normalizada</th>\n",
       "      <th>COMUNA</th>\n",
       "      <th>XY (CABA)</th>\n",
       "      <th>pos x</th>\n",
       "      <th>pos y</th>\n",
       "      <th>PARTICIPANTES</th>\n",
       "      <th>VICTIMA</th>\n",
       "      <th>ACUSADO</th>\n",
       "    </tr>\n",
       "  </thead>\n",
       "  <tbody>\n",
       "    <tr>\n",
       "      <th>119</th>\n",
       "      <td>2016-0151</td>\n",
       "      <td>1</td>\n",
       "      <td>2016-11-18</td>\n",
       "      <td>2016</td>\n",
       "      <td>11</td>\n",
       "      <td>18</td>\n",
       "      <td>20:35:00</td>\n",
       "      <td>20</td>\n",
       "      <td>SD</td>\n",
       "      <td>CALLE</td>\n",
       "      <td>...</td>\n",
       "      <td>NaN</td>\n",
       "      <td>NaN</td>\n",
       "      <td>NaN</td>\n",
       "      <td>0</td>\n",
       "      <td>Point (. .)</td>\n",
       "      <td>.</td>\n",
       "      <td>.</td>\n",
       "      <td>PEATON-SD</td>\n",
       "      <td>PEATON</td>\n",
       "      <td>SD</td>\n",
       "    </tr>\n",
       "  </tbody>\n",
       "</table>\n",
       "<p>1 rows × 21 columns</p>\n",
       "</div>"
      ],
      "text/plain": [
       "            ID  N_VICTIMAS      FECHA  AAAA  MM  DD      HORA  HH  \\\n",
       "119  2016-0151           1 2016-11-18  2016  11  18  20:35:00  20   \n",
       "\n",
       "    LUGAR_DEL_HECHO TIPO_DE_CALLE  ... Altura  Cruce Dirección Normalizada  \\\n",
       "119              SD         CALLE  ...    NaN    NaN                   NaN   \n",
       "\n",
       "    COMUNA    XY (CABA) pos x pos y PARTICIPANTES VICTIMA ACUSADO  \n",
       "119      0  Point (. .)     .     .     PEATON-SD  PEATON      SD  \n",
       "\n",
       "[1 rows x 21 columns]"
      ]
     },
     "execution_count": 7,
     "metadata": {},
     "output_type": "execute_result"
    }
   ],
   "source": [
    "filas_calle_nula = hechos['HECHOS'][hechos['HECHOS']['Calle'].isnull()]\n",
    "filas_calle_nula"
   ]
  },
  {
   "cell_type": "markdown",
   "metadata": {},
   "source": [
    "Para la columna calle con valor faltante se puede observar que se carece información relacionada acerca de la dirección del hecho y el acusado, loque que pudiera ser comprensible para algunos casos."
   ]
  },
  {
   "cell_type": "markdown",
   "metadata": {},
   "source": [
    "<h4>Evaluacion columna Altura</h4>"
   ]
  },
  {
   "cell_type": "markdown",
   "metadata": {},
   "source": [
    "Es importante mencionar que la altura solo se asigna cuando la columna TIPO DE CALLE es igua a calle y la columana cruce es nula, por lo que buscaremos nulos en altura bajo estos parametros."
   ]
  },
  {
   "cell_type": "code",
   "execution_count": 8,
   "metadata": {},
   "outputs": [
    {
     "name": "stdout",
     "output_type": "stream",
     "text": [
      "            ID  N_VICTIMAS      FECHA  AAAA  MM  DD      HORA  HH  \\\n",
      "119  2016-0151           1 2016-11-18  2016  11  18  20:35:00  20   \n",
      "559  2020-0039           1 2020-09-01  2020   9   1  19:17:42  19   \n",
      "\n",
      "     LUGAR_DEL_HECHO TIPO_DE_CALLE  ... Altura  Cruce Dirección Normalizada  \\\n",
      "119               SD         CALLE  ...    NaN    NaN                   NaN   \n",
      "559  MURGUIONDO 2700         CALLE  ...    NaN    NaN            MURGUIONDO   \n",
      "\n",
      "    COMUNA    XY (CABA) pos x pos y  PARTICIPANTES VICTIMA ACUSADO  \n",
      "119      0  Point (. .)     .     .      PEATON-SD  PEATON      SD  \n",
      "559      9  Point (. .)     .     .  PEATON-CARGAS  PEATON  CARGAS  \n",
      "\n",
      "[2 rows x 21 columns]\n"
     ]
    },
    {
     "name": "stderr",
     "output_type": "stream",
     "text": [
      "C:\\Users\\admin\\AppData\\Local\\Temp\\ipykernel_7920\\2780767287.py:3: UserWarning: Boolean Series key will be reindexed to match DataFrame index.\n",
      "  filas_nulos_altura = hechos['HECHOS'][condiciones_filtro][hechos['HECHOS']['Altura'].isnull()]\n"
     ]
    }
   ],
   "source": [
    "# Filtrar las filas que cumplen con las condiciones especificadas\n",
    "condiciones_filtro = (hechos['HECHOS']['TIPO_DE_CALLE'] == 'CALLE') & (hechos['HECHOS']['Cruce'].isnull())\n",
    "filas_nulos_altura = hechos['HECHOS'][condiciones_filtro][hechos['HECHOS']['Altura'].isnull()]\n",
    "\n",
    "# Mostrar las filas\n",
    "print(filas_nulos_altura)"
   ]
  },
  {
   "cell_type": "markdown",
   "metadata": {},
   "source": [
    "como se puede ver existen dos hechos que carecen de la informacion respecto a la altura, uno de estos es el ya mencionado en el analisis anterior de la columana Calle, el oto quien tampoco tiene la altura, tiene informacion en la columna LUGAR DEL HECHO  donde se especifica la calle con la altura, la cual es MURGUIONDO 2700, por tratarce de una unica fila se realiza la carga de manera manual."
   ]
  },
  {
   "cell_type": "code",
   "execution_count": 9,
   "metadata": {},
   "outputs": [],
   "source": [
    "hechos['HECHOS'].loc[hechos['HECHOS']['ID'] == '2020-0039', 'Altura'] = 2700"
   ]
  },
  {
   "cell_type": "markdown",
   "metadata": {},
   "source": [
    "<h4>Evaluacion columna Cruce</h4>"
   ]
  },
  {
   "cell_type": "markdown",
   "metadata": {},
   "source": [
    "Los cruces se dan unicamente entre calles y algunas veces entre autopista, cuando una calle tiene una altura no se menciona el cruce"
   ]
  },
  {
   "cell_type": "code",
   "execution_count": 10,
   "metadata": {},
   "outputs": [
    {
     "name": "stdout",
     "output_type": "stream",
     "text": [
      "            ID  N_VICTIMAS      FECHA  AAAA  MM  DD      HORA  HH  \\\n",
      "119  2016-0151           1 2016-11-18  2016  11  18  20:35:00  20   \n",
      "\n",
      "    LUGAR_DEL_HECHO TIPO_DE_CALLE  ... Altura  Cruce Dirección Normalizada  \\\n",
      "119              SD         CALLE  ...    NaN    NaN                   NaN   \n",
      "\n",
      "    COMUNA    XY (CABA) pos x pos y PARTICIPANTES VICTIMA ACUSADO  \n",
      "119      0  Point (. .)     .     .     PEATON-SD  PEATON      SD  \n",
      "\n",
      "[1 rows x 21 columns]\n"
     ]
    }
   ],
   "source": [
    "condiciones_filtro = (\n",
    "    (hechos['HECHOS']['Cruce'].isnull()) & \n",
    "    (hechos['HECHOS']['Altura'].isnull()) & \n",
    "    (hechos['HECHOS']['TIPO_DE_CALLE'] == 'CALLE')\n",
    ")\n",
    "\n",
    "# Obtener las filas que cumplen con las condiciones\n",
    "filas_filtradas = hechos['HECHOS'].loc[condiciones_filtro]\n",
    "\n",
    "# Mostrar las filas filtradas\n",
    "print(filas_filtradas)"
   ]
  },
  {
   "cell_type": "markdown",
   "metadata": {},
   "source": [
    "<h4>Evaluacion columna COMUNA</h4>"
   ]
  },
  {
   "cell_type": "code",
   "execution_count": 11,
   "metadata": {},
   "outputs": [
    {
     "data": {
      "text/plain": [
       "COMUNA\n",
       "1     90\n",
       "4     76\n",
       "9     73\n",
       "8     65\n",
       "7     60\n",
       "3     45\n",
       "15    44\n",
       "13    40\n",
       "12    37\n",
       "14    35\n",
       "11    32\n",
       "10    29\n",
       "2     25\n",
       "5     22\n",
       "6     21\n",
       "0      2\n",
       "Name: count, dtype: int64"
      ]
     },
     "execution_count": 11,
     "metadata": {},
     "output_type": "execute_result"
    }
   ],
   "source": [
    "hechos['HECHOS']['COMUNA'].value_counts()"
   ]
  },
  {
   "cell_type": "markdown",
   "metadata": {},
   "source": [
    "Se puede observar que en la columna “COMUNA” se describen dos filas con valor igual 0, lo que se considera como errada, ya que no existe dicha comuna. Se procede a la evaluación de dichas filas para completar datos faltantes o eliminar si no se tiene la información necesaria para que forme parte del estudio."
   ]
  },
  {
   "cell_type": "code",
   "execution_count": 12,
   "metadata": {},
   "outputs": [
    {
     "name": "stdout",
     "output_type": "stream",
     "text": [
      "            ID  N_VICTIMAS      FECHA  AAAA  MM  DD      HORA  HH  \\\n",
      "119  2016-0151           1 2016-11-18  2016  11  18  20:35:00  20   \n",
      "139  2016-0174           1 2016-12-27  2016  12  27  00:00:00   0   \n",
      "\n",
      "          LUGAR_DEL_HECHO TIPO_DE_CALLE  ... Altura  Cruce  \\\n",
      "119                    SD         CALLE  ...    NaN    NaN   \n",
      "139  AUTOPISTA 25 DE MAYO     AUTOPISTA  ...    NaN    NaN   \n",
      "\n",
      "    Dirección Normalizada COMUNA    XY (CABA) pos x pos y PARTICIPANTES  \\\n",
      "119                   NaN      0  Point (. .)     .     .     PEATON-SD   \n",
      "139  AUTOPISTA 25 DE MAYO      0  Point (. .)     .     .         SD-SD   \n",
      "\n",
      "    VICTIMA ACUSADO  \n",
      "119  PEATON      SD  \n",
      "139      SD      SD  \n",
      "\n",
      "[2 rows x 21 columns]\n"
     ]
    }
   ],
   "source": [
    "comuna_cero_filas = hechos['HECHOS'][hechos['HECHOS']['COMUNA'] == 0]\n",
    "print(comuna_cero_filas.head())"
   ]
  },
  {
   "cell_type": "code",
   "execution_count": 13,
   "metadata": {},
   "outputs": [
    {
     "name": "stdout",
     "output_type": "stream",
     "text": [
      "      ID_hecho      FECHA  AAAA  MM  DD     ROL VICTIMA SEXO EDAD  \\\n",
      "121  2016-0151 2016-11-18  2016  11  18  PEATON  PEATON   SD   SD   \n",
      "141  2016-0174 2016-12-27  2016  12  27      SD      SD   SD   SD   \n",
      "\n",
      "    FECHA_FALLECIMIENTO  \n",
      "121                  SD  \n",
      "141                  SD  \n"
     ]
    }
   ],
   "source": [
    "id_hechos_buscar = ['2016-0151', '2016-0174']\n",
    "resultados_busqueda = hechos['VICTIMAS'][hechos['VICTIMAS']['ID_hecho'].isin(id_hechos_buscar)]\n",
    "print(resultados_busqueda)"
   ]
  },
  {
   "cell_type": "markdown",
   "metadata": {},
   "source": [
    "Se puede apreciar que dichas filas carecen de información valiosa en la base de datos de hechos y víctimas, como la edad, el rol de la víctima, la comuna y dirección del hecho, por lo que se procede a la eliminación de dichas filas, para el desarrollo del análisis."
   ]
  },
  {
   "cell_type": "code",
   "execution_count": 14,
   "metadata": {},
   "outputs": [],
   "source": [
    "id_hechos_eliminar = ['2016-0151', '2016-0174']\n",
    "hechos['HECHOS'] = hechos['HECHOS'][~hechos['HECHOS']['ID'].isin(id_hechos_eliminar)]\n",
    "hechos['VICTIMAS'] = hechos['VICTIMAS'][~hechos['VICTIMAS']['ID_hecho'].isin(id_hechos_eliminar)]"
   ]
  },
  {
   "cell_type": "markdown",
   "metadata": {},
   "source": [
    "<h4> Busqueda de outliers dentro del tipo de Victima </4>"
   ]
  },
  {
   "cell_type": "code",
   "execution_count": 16,
   "metadata": {},
   "outputs": [
    {
     "data": {
      "image/png": "[encoded data removed]",
      "text/plain": [
       "<Figure size 1200x400 with 1 Axes>"
      ]
     },
     "metadata": {},
     "output_type": "display_data"
    }
   ],
   "source": [
    "datos_victima = hechos['HECHOS']['VICTIMA']\n",
    "\n",
    "# Crear el gráfico de caja\n",
    "plt.figure(figsize=(12, 4))\n",
    "sns.boxplot(x=datos_victima)\n",
    "\n",
    "# Personalizar el gráfico\n",
    "plt.xlabel('VICTIMA')\n",
    "plt.title('Boxplot de la columna VICTIMA para detectar outliers')\n",
    "\n",
    "# Mostrar el gráfico\n",
    "plt.show()\n",
    "\n"
   ]
  },
  {
   "cell_type": "markdown",
   "metadata": {},
   "source": [
    "En la columna 'VICTIMA' encontramos dos valores outliers los cuales son: PEATON_MOTO Y OBJETO FIJO. estos no son considerados victimas ya que no se encuentra su descripcion dentro del diccionario de hechos.\n",
    "Muestro la cantidad de Hechos por Victimas para conoser cuantos casos outliers tengo e identificos sus ID:"
   ]
  },
  {
   "cell_type": "code",
   "execution_count": 17,
   "metadata": {},
   "outputs": [
    {
     "data": {
      "text/plain": [
       "VICTIMA\n",
       "MOTO           295\n",
       "PEATON         263\n",
       "AUTO            83\n",
       "BICICLETA       29\n",
       "SD               8\n",
       "CARGAS           7\n",
       "PASAJEROS        5\n",
       "MOVIL            2\n",
       "OBJETO FIJO      1\n",
       "PEATON_MOTO      1\n",
       "Name: count, dtype: int64"
      ]
     },
     "execution_count": 17,
     "metadata": {},
     "output_type": "execute_result"
    }
   ],
   "source": [
    "hechos['HECHOS']['VICTIMA'].value_counts()"
   ]
  },
  {
   "cell_type": "markdown",
   "metadata": {},
   "source": [
    "Identificos los ID y los guardo en una lista"
   ]
  },
  {
   "cell_type": "code",
   "execution_count": 18,
   "metadata": {},
   "outputs": [
    {
     "name": "stdout",
     "output_type": "stream",
     "text": [
      "['2017-0108', '2020-0063']\n"
     ]
    }
   ],
   "source": [
    "# Filtrar las filas en HECHOS que coincidan con las condiciones\n",
    "filas_victimas_especificas = hechos['HECHOS'][(hechos['HECHOS']['VICTIMA'] == 'PEATON_MOTO') | (hechos['HECHOS']['VICTIMA'] == 'OBJETO FIJO')]\n",
    "\n",
    "# Obtener una lista de los ID de las filas filtradas\n",
    "lista_ids = filas_victimas_especificas['ID'].tolist()\n",
    "\n",
    "# Imprimir la lista de IDs\n",
    "print(lista_ids)\n"
   ]
  },
  {
   "cell_type": "markdown",
   "metadata": {},
   "source": [
    "Busco los Id de los hecho en la tabla VICTIMAS para cruzar informacion y confirmar el tipo de victima"
   ]
  },
  {
   "cell_type": "code",
   "execution_count": 19,
   "metadata": {},
   "outputs": [
    {
     "name": "stdout",
     "output_type": "stream",
     "text": [
      "      ID_hecho      FECHA  AAAA  MM  DD                   ROL VICTIMA  \\\n",
      "237  2017-0108 2017-09-02  2017   9   2  PASAJERO_ACOMPAÑANTE    AUTO   \n",
      "238  2017-0108 2017-09-02  2017   9   2  PASAJERO_ACOMPAÑANTE    AUTO   \n",
      "602  2020-0063 2020-12-05  2020  12   5                PEATON  PEATON   \n",
      "603  2020-0063 2020-12-05  2020  12   5  PASAJERO_ACOMPAÑANTE    MOTO   \n",
      "\n",
      "          SEXO EDAD  FECHA_FALLECIMIENTO  \n",
      "237  MASCULINO   17  2017-09-02 00:00:00  \n",
      "238  MASCULINO   10  2017-09-02 00:00:00  \n",
      "602  MASCULINO   38  2020-12-05 00:00:00  \n",
      "603  MASCULINO   21  2020-12-05 00:00:00  \n"
     ]
    }
   ],
   "source": [
    "# Convertir la lista de IDs a un conjunto para una búsqueda más eficiente\n",
    "conjunto_ids = set(lista_ids)\n",
    "\n",
    "# Filtrar las filas en la pestaña \"VICTIMAS\" que tengan ID_hecho en la lista de IDs\n",
    "filas_filtradas = hechos['VICTIMAS'][hechos['VICTIMAS']['ID_hecho'].isin(conjunto_ids)]\n",
    "\n",
    "# Imprimir las filas filtradas\n",
    "print(filas_filtradas)\n"
   ]
  },
  {
   "cell_type": "markdown",
   "metadata": {},
   "source": [
    "Se puede detectar un error en el hecho de Id 2017-0108 donde la tabla HECHO se refleja que la víctima es un objeto físico y en la tabla Victimas nos dice que es AUTO, por lo que se corregirá el error. Mientras tanto el ID 2020-0063 se trata de un hecho real, pues se entiende que hubieron dos víctimas (peatón y acompañante de la moto) por esto en la tabla HECHOS donde se describe lo sucedido un una sola fila se muestra el tipo de victima como: 'PEATON_MOTO'"
   ]
  },
  {
   "cell_type": "code",
   "execution_count": 20,
   "metadata": {},
   "outputs": [],
   "source": [
    "# Buscar la fila con ID '2017-0108' en la pestaña 'HECHOS'\n",
    "fila_a_modificar = hechos['HECHOS'][hechos['HECHOS']['ID'] == '2017-0108']\n",
    "\n",
    "# Modificar los valores de las columnas VICTIMA y ACUSADO\n",
    "hechos['HECHOS'].loc[fila_a_modificar.index, 'VICTIMA'] = 'AUTO'\n",
    "hechos['HECHOS'].loc[fila_a_modificar.index, 'ACUSADO'] = 'OBJETO FIJO'"
   ]
  },
  {
   "cell_type": "markdown",
   "metadata": {},
   "source": [
    "Guardo el Datasets limpio"
   ]
  },
  {
   "cell_type": "code",
   "execution_count": 22,
   "metadata": {},
   "outputs": [],
   "source": [
    "hechos['HECHOS'].to_excel('../Datasets/homicidios_limpio_HECHOS.xlsx', index=False)\n",
    "hechos['VICTIMAS'].to_excel('../Datasets/homicidios_limpio_VICTIMAS.xlsx', index=False)"
   ]
  }
 ],
 "metadata": {
  "kernelspec": {
   "display_name": "Python 3",
   "language": "python",
   "name": "python3"
  },
  "language_info": {
   "codemirror_mode": {
    "name": "ipython",
    "version": 3
   },
   "file_extension": ".py",
   "mimetype": "text/x-python",
   "name": "python",
   "nbconvert_exporter": "python",
   "pygments_lexer": "ipython3",
   "version": "3.11.3"
  }
 },
 "nbformat": 4,
 "nbformat_minor": 2
}
